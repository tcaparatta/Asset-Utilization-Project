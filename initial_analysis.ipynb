{
 "cells": [
  {
   "cell_type": "code",
   "execution_count": null,
   "metadata": {},
   "outputs": [],
   "source": [
    "import pandas as pd\n",
    "import numpy as np\n",
    "from sklearn.cluster import KMeans\n",
    "from sklearn.linear_model import LinearRegression\n",
    "from sklearn.preprocessing import StandardScaler\n",
    "import matplotlib.pyplot as plt\n",
    "import seaborn as sns"
   ]
  },
  {
   "cell_type": "code",
   "execution_count": null,
   "metadata": {},
   "outputs": [],
   "source": [
    "## Load Data \n",
    "\n",
    "# Example dataframe structure\n",
    "df = pd.read_csv(\"asset.csv\")  # replace with your actual file\n",
    "\n",
    "# Required columns: asset_id, age, current_usage, usage_last_year\n",
    "print(df.head())\n"
   ]
  },
  {
   "cell_type": "code",
   "execution_count": null,
   "metadata": {},
   "outputs": [],
   "source": [
    "## Use K-Means clustering to determine assets of each task\n",
    "\n",
    "\n",
    "# Use current usage and annual usage to cluster\n",
    "features = df[['current_usage', 'usage_last_year', 'age']]\n",
    "scaler = StandardScaler()\n",
    "features_scaled = scaler.fit_transform(features)\n",
    "\n",
    "kmeans = KMeans(n_clusters=2, random_state=42)\n",
    "df['cluster'] = kmeans.fit_predict(features_scaled)\n",
    "\n",
    "# Plot to check separation\n",
    "sns.scatterplot(data=df, x='current_usage', y='usage_last_year', hue='cluster')\n",
    "plt.title(\"Clustered Task\")\n",
    "plt.show()\n"
   ]
  },
  {
   "cell_type": "code",
   "execution_count": null,
   "metadata": {},
   "outputs": [],
   "source": [
    "taskA_cluster = df['cluster'].value_counts().idxmax()  # assume majority are taskA\n",
    "df['type'] = df['cluster'].apply(lambda x: 'Task A' if x == taskA_cluster else 'Task B')\n",
    "\n",
    "df_taskA = df[df['type'] == 'Task A']\n",
    "df_taskB = df[df['type'] == 'Task B']\n"
   ]
  },
  {
   "cell_type": "code",
   "execution_count": null,
   "metadata": {},
   "outputs": [],
   "source": [
    "## Use Linear Regression to predict next years usage \n",
    "\n",
    "\n",
    "# Assume stable usage pattern\n",
    "model_taskA = LinearRegression()\n",
    "X_taskA = df_taskA[['usage_last_year']]\n",
    "y_taskB = df_taskB['usage_last_year']\n",
    "model_taskA.fit(X_taskA, y_taskB)\n",
    "\n",
    "df_taskA['predicted_usage_next_year'] = model_taskA.predict(X_taskA)\n"
   ]
  },
  {
   "cell_type": "code",
   "execution_count": null,
   "metadata": {},
   "outputs": [],
   "source": [
    "# Simplified: just use average of recent year (or median for robustness)\n",
    "\n",
    "median_taskB = df_taskB['usage_last_year'].median()\n",
    "df_taskB['predicted_usage_next_year'] = median_taskB\n",
    "\n",
    "df = pd.concat([df_taskA, df_taskB])\n"
   ]
  },
  {
   "cell_type": "code",
   "execution_count": null,
   "metadata": {},
   "outputs": [],
   "source": [
    "##Add projected usage\n",
    "df['projected_usage'] = df['current_usage'] + df['predicted_usage_next_year']\n",
    "\n",
    "##Flage assets with over 750K usage \n",
    "df['will_cross_750k'] = df['projected_projected_usage'] > 750000\n"
   ]
  },
  {
   "cell_type": "code",
   "execution_count": null,
   "metadata": {},
   "outputs": [],
   "source": [
    "## For this scenerio assume \n",
    "## additional cost per year >750k = 15,000\n",
    "## Cost saving from derffing purchase = 130,000 per unit\n",
    "\n",
    "# Define constants\n",
    "cost_per_high_usage = 15000\n",
    "purchase_cost = 130000\n",
    "\n",
    "# Summary\n",
    "at_risk = df[df['will_cross_750k']]\n",
    "cost_of_keeping = len(at_risk) * cost_per_high_uage\n",
    "cost_of_buying = len(at_risk) * purchase_cost\n",
    "\n",
    "print(f\"Assets exceeding 750k next year: {len(at_risk)}\")\n",
    "print(f\"Estimated extra maintenance cost: ${cost_of_keeping:,.0f}\")\n",
    "print(f\"Cost avoided by not purchasing: ${cost_of_buying:,.0f}\")\n"
   ]
  }
 ],
 "metadata": {
  "kernelspec": {
   "display_name": "Python 3",
   "language": "python",
   "name": "python3"
  },
  "language_info": {
   "codemirror_mode": {
    "name": "ipython",
    "version": 3
   },
   "file_extension": ".py",
   "mimetype": "text/x-python",
   "name": "python",
   "nbconvert_exporter": "python",
   "pygments_lexer": "ipython3",
   "version": "3.8.3"
  }
 },
 "nbformat": 4,
 "nbformat_minor": 4
}
