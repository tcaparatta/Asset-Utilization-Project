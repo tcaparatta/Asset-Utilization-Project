{
 "cells": [
  {
   "cell_type": "code",
   "execution_count": 1,
   "metadata": {},
   "outputs": [],
   "source": [
    "import pandas as pd\n",
    "import numpy as np\n",
    "from sklearn.cluster import KMeans\n",
    "from sklearn.linear_model import LinearRegression\n",
    "from sklearn.preprocessing import StandardScaler\n",
    "import matplotlib.pyplot as plt\n",
    "import seaborn as sns"
   ]
  },
  {
   "cell_type": "code",
   "execution_count": 2,
   "metadata": {},
   "outputs": [],
   "source": [
    "def analyze_asset_lifecycle(df,\n",
    "                               cost_per_high_usage=15000,\n",
    "                               replacement_cost=130000,\n",
    "                               usage_threshold=750000):\n",
    "    \"\"\"\n",
    "    Analyze projected cost of extending asset lifecycle 1 year.\n",
    "    \n",
    "    Parameters:\n",
    "    - df: DataFrame with columns ['asset_id', 'current_usage', 'usage_last_year', 'age']\n",
    "    - cost_per_high_usage: annual maintenance premium after 750k uses\n",
    "    - replacement_cost: cost per new tractor\n",
    "    - usage_threshold: threshold to flag high-cost asset\n",
    "    \n",
    "    Returns:\n",
    "    - DataFrame with predictions and summary printout\n",
    "    \"\"\"\n",
    "\n",
    "    # Step 1: Encode categorical features\n",
    "    df = df.copy()\n",
    "\n",
    "    # Step 2: Clustering to infer Task A vs Task B\n",
    "    features = ['current_usage', 'usage_last_year', 'age']\n",
    "    scaler = StandardScaler()\n",
    "    X_scaled = scaler.fit_transform(df[features])\n",
    "\n",
    "    kmeans = KMeans(n_clusters=2, random_state=42)\n",
    "    df['cluster'] = kmeans.fit_predict(X_scaled)\n",
    "\n",
    "    # Assume majority cluster is Task A\n",
    "    majority_cluster = df['cluster'].value_counts().idxmax()\n",
    "    df['type'] = df['cluster'].apply(lambda x: 'Task A' if x == majority_cluster else 'Task B')\n",
    "\n",
    "    # Step 3: Predict mileage separately\n",
    "    df['predicted_usage_next_year'] = 0.0\n",
    "\n",
    "    # Task A: Linear regression\n",
    "    df_taskA = df[df['type'] == 'Task A']\n",
    "    model_taskA = LinearRegression()\n",
    "    X_taskA = df_taskA[['usage_last_year']]\n",
    "    y_taskA = df_taskA['usage_last_year']\n",
    "    model_lh.fit(X_taskA, y_taskA)\n",
    "    df.loc[df['type'] == 'Task A', 'predicted_usage_next_year'] = model_taskA.predict(X_taskA)\n",
    "\n",
    "    # Task B: Median projection\n",
    "    median_pd = df[df['type'] == 'Task B']['usage_last_year'].median()\n",
    "    df.loc[df['type'] == 'Task B', 'predicted_usage_next_year'] = median_taskB\n",
    "\n",
    "    # Step 4: Projected Odometer\n",
    "    df['projected_usage'] = df['current_usuage'] + df['predicted_usage_next_year']\n",
    "    df['will_cross_750k'] = df['projected_usage'] > usage_threshold\n",
    "\n",
    "    # Step 5: Cost Summary\n",
    "    num_risky = df['will_cross_750k'].sum()\n",
    "    extra_maintenance_cost = num_risky * cost_per_high_usage\n",
    "    replacement_cost_avoided = num_risky * replacement_cost\n",
    "\n",
    "    print(\"========== SUMMARY ==========\")\n",
    "    print(f\"Task A assets: {sum(df['type'] == 'Task A')}\")\n",
    "    print(f\"Task B assets: {sum(df['type'] == 'Task B')}\")\n",
    "    print(f\"Assets predicted to exceed {usage_threshold:,} usage next year: {num_risky}\")\n",
    "    print(f\"Estimated maintenance penalty: ${extra_maintenance_cost:,.0f}\")\n",
    "    print(f\"Replacement cost avoided by not buying: ${replacement_cost_avoided:,.0f}\")\n",
    "    print(f\"Net cost impact (maint - saved): ${extra_maintenance_cost - replacement_cost_avoided:,.0f}\")\n",
    "    print(\"=============================\")\n",
    "\n",
    "    return df\n"
   ]
  },
  {
   "cell_type": "code",
   "execution_count": null,
   "metadata": {},
   "outputs": [],
   "source": [
    "# Load your data\n",
    "results_df = analyze_usage_lifecycle(df)\n"
   ]
  }
 ],
 "metadata": {
  "kernelspec": {
   "display_name": "Python 3",
   "language": "python",
   "name": "python3"
  },
  "language_info": {
   "codemirror_mode": {
    "name": "ipython",
    "version": 3
   },
   "file_extension": ".py",
   "mimetype": "text/x-python",
   "name": "python",
   "nbconvert_exporter": "python",
   "pygments_lexer": "ipython3",
   "version": "3.8.3"
  }
 },
 "nbformat": 4,
 "nbformat_minor": 4
}
